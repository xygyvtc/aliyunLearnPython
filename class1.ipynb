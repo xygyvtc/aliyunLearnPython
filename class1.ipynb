{
 "cells": [
  {
   "cell_type": "markdown",
   "metadata": {},
   "source": [
    "# Python基础学习"
   ]
  },
  {
   "cell_type": "markdown",
   "metadata": {},
   "source": [
    "- 导包\n",
    "- 变量\n",
    "- 循环While\n",
    "- 打印 print\n",
    "- 异常处理 try except \n",
    "- 条件判断 if \n",
    "- 比较运算符号"
   ]
  },
  {
   "cell_type": "code",
   "execution_count": null,
   "metadata": {},
   "outputs": [],
   "source": [
    "# 导包\n",
    "'''\n",
    "import 包的名字\n",
    "from 包的名字 import 包里面的类/函数\n",
    "'''\n",
    "\n",
    "# 变量\n",
    "'''\n",
    "可以即用即赋值\n",
    "'''\n",
    "temp = 20\n",
    "print(temp)\n",
    "\n",
    "# 循环\n",
    "'''\n",
    "一般有while和for循环\n",
    "'''\n",
    "i = 2\n",
    "while i > 0:\n",
    "    print(\"我爱学习\")\n",
    "    i = i - 1\n",
    "    \n",
    "# 打印\n",
    "print(\"我爱学习\")\n",
    "\n",
    "# 异常处理\n",
    "'''\n",
    "try:\n",
    "    要执行的语句\n",
    "except 错误类型:\n",
    "    出错之后，想要执行的内容\n",
    "'''\n",
    "\n",
    "# 条件判断\n",
    "'''\n",
    "if 条件语句1:\n",
    "    条件语句1为真的时候，会执行的内容\n",
    "elif 条件语句2:\n",
    "    条件语句2为真的时候，会执行的内容\n",
    "else:\n",
    "    条件语句1和2都为假的时候，会执行的内容\n",
    "    \n",
    "'''\n",
    "\n",
    "# 比较运算符\n",
    "'''\n",
    "教程\n",
    "'''"
   ]
  },
  {
   "cell_type": "code",
   "execution_count": null,
   "metadata": {},
   "outputs": [],
   "source": [
    "import random\n",
    "\n",
    "guess = random.randint(1,10)\n",
    "\n",
    "# 猜测的次数\n",
    "i = 1\n",
    "\n",
    "while True:\n",
    "    print(\"第%d次猜，请输入一个整数数字：\"%(i))\n",
    "    try:\n",
    "        temp = int(input())\n",
    "        i+=1\n",
    "    except ValueError:\n",
    "        print(\"输入无效\")\n",
    "        continue\n",
    "    if temp == guess:\n",
    "        print(\"恭喜您猜对了，就是这个数\", guess)\n",
    "        break;\n",
    "    elif temp > guess:\n",
    "        print(\"大了\")\n",
    "    else:\n",
    "        print(\"小了\")\n",
    "\n"
   ]
  },
  {
   "cell_type": "code",
   "execution_count": 2,
   "metadata": {},
   "outputs": [
    {
     "name": "stdout",
     "output_type": "stream",
     "text": [
      "1\n",
      "3.6666666666666665\n",
      "3\n",
      "8\n"
     ]
    }
   ],
   "source": [
    "# 算术运算符\n",
    "print(3%2)\n",
    "print(11/3)\n",
    "print(11//3)\n",
    "print(2**3)\n"
   ]
  },
  {
   "cell_type": "code",
   "execution_count": 3,
   "metadata": {},
   "outputs": [
    {
     "name": "stdout",
     "output_type": "stream",
     "text": [
      "False\n",
      "True\n",
      "True\n",
      "False\n"
     ]
    }
   ],
   "source": [
    "# 比较运算符\n",
    "print(1>3)\n",
    "print(2<3)\n",
    "print(1==1)\n",
    "print(1!=1)"
   ]
  },
  {
   "cell_type": "code",
   "execution_count": 4,
   "metadata": {},
   "outputs": [
    {
     "name": "stdout",
     "output_type": "stream",
     "text": [
      "True\n",
      "False\n",
      "True\n",
      "False\n"
     ]
    }
   ],
   "source": [
    "# 逻辑运算符\n",
    "print((3 > 2) and (3 < 5))  # 与\n",
    "print((1 > 3) and (2 < 1))   \n",
    "print((1 > 3) or (3 < 5))  # 或\n",
    "print(not (2 > 1)) # 非"
   ]
  },
  {
   "cell_type": "code",
   "execution_count": 5,
   "metadata": {},
   "outputs": [
    {
     "name": "stdout",
     "output_type": "stream",
     "text": [
      "0b100\n",
      "0b101\n",
      "-0b101 -5\n",
      "0b100 4\n",
      "0b101 5\n",
      "0b1 1\n",
      "0b10000 16\n",
      "0b1 1\n"
     ]
    }
   ],
   "source": [
    "# 位运算符\n",
    "print(bin(4))\n",
    "print(bin(5))\n",
    "# 按位取反\n",
    "print(bin(~4), ~4)\n",
    "# 按位与\n",
    "print(bin(4&5), 4&5)\n",
    "# 按位或\n",
    "print(bin(4 | 5), 4 | 5)\n",
    "# 按位异或\n",
    "print(bin(4 ^ 5), 4 ^ 5)\n",
    "# 左移 <<\n",
    "print(bin(4 << 2), 4 << 2)\n",
    "# 右移 >>\n",
    "print(bin(4 >> 2), 4 >> 2)"
   ]
  },
  {
   "cell_type": "code",
   "execution_count": 9,
   "metadata": {},
   "outputs": [
    {
     "name": "stdout",
     "output_type": "stream",
     "text": [
      "4 5\n",
      "4\n"
     ]
    }
   ],
   "source": [
    "# 三元运算符\n",
    "x, y = 4, 5\n",
    "print(x, y)\n",
    "small = x if x < y else y\n",
    "print(small)"
   ]
  },
  {
   "cell_type": "code",
   "execution_count": 11,
   "metadata": {},
   "outputs": [
    {
     "name": "stdout",
     "output_type": "stream",
     "text": [
      "A exists\n",
      "h not exists\n",
      "True True\n",
      "False False\n",
      "False True\n",
      "True False\n"
     ]
    }
   ],
   "source": [
    "# 其它运算符\n",
    "# in    not in \n",
    "letters = ['A', 'B', 'C']\n",
    "if 'A' in letters:\n",
    "    print('A' + ' exists')\n",
    "if 'h' not in letters:\n",
    "    print('h' + ' not exists')\n",
    "    \n",
    "# is    is not \n",
    "# 比较的两个变量均指向不可变类型（string等）\n",
    "a = \"Hello\"\n",
    "b = \"Hello\"\n",
    "print(a is b, a==b)\n",
    "print(a is not b, a!=b)\n",
    "# 比较的两个变量均指向可变类型（list,dict,tuple等）\n",
    "a = [\"Hello\"]\n",
    "b = [\"Hello\"]\n",
    "print(a is b, a==b)\n",
    "print(a is not b, a!=b)"
   ]
  },
  {
   "cell_type": "markdown",
   "metadata": {},
   "source": [
    "\n",
    "注意：\n",
    "- is, is not 对比的是两个变量的内存地址\n",
    "- ==, != 对比的是两个变量的值\n",
    "- 比较的两个变量，指向的都是地址不可变的类型（str等），那么is，is not 和 ==，！= 是完全等价的。\n",
    "- 对比的两个变量，指向的是地址可变的类型（list，dict，tuple等），则两者是有区别的。\n",
    "\n",
    "\n",
    "<b>运算符的优先级</b>\n",
    "\n",
    "| 运算符 | 描述 |\n",
    "|-----|-----|\n",
    "| ** | 指数（最高优先级）   |\n",
    "| ~+- | 按位翻转，一元加号和减号 |\n",
    "| * / % // | 乘，除，取模和取整除）   |\n",
    "| + - | 加法减法 |\n",
    "| >> << | 右移，左移运算符 |\n",
    "|&| 位‘AND’|\n",
    "| ^\\| | 位运算符  |\n",
    "| <=<>>=| 比较运算符 |\n",
    "| <>==!= | 等于运算符  |\n",
    "| =%=/=//=-=+=*=**= | 赋值运算符 |\n",
    "| is is not | 身份运算符   |\n",
    "| in not in | 成员运算符 |\n",
    "| not and or | 逻辑运算符   |"
   ]
  },
  {
   "cell_type": "markdown",
   "metadata": {},
   "source": [
    "### 变量和赋值\n",
    "- 在使用变量前，需要对其进行赋值\n",
    "- 变量名可以包括字母、数字、下划线，但变量不能以数字开头\n",
    "- python变量名是大小写敏感的"
   ]
  },
  {
   "cell_type": "code",
   "execution_count": 12,
   "metadata": {},
   "outputs": [
    {
     "name": "stdout",
     "output_type": "stream",
     "text": [
      "老马的程序人生\n"
     ]
    }
   ],
   "source": [
    "# 例1\n",
    "teacher = \"老马的程序人生\"\n",
    "print(teacher)"
   ]
  },
  {
   "cell_type": "code",
   "execution_count": 13,
   "metadata": {},
   "outputs": [
    {
     "name": "stdout",
     "output_type": "stream",
     "text": [
      "5\n"
     ]
    }
   ],
   "source": [
    "# 例2\n",
    "first = 2\n",
    "second = 3\n",
    "print(first + second)"
   ]
  },
  {
   "cell_type": "code",
   "execution_count": 15,
   "metadata": {},
   "outputs": [
    {
     "name": "stdout",
     "output_type": "stream",
     "text": [
      "老马的程序人生, 小马的程序人生\n"
     ]
    }
   ],
   "source": [
    "# 例3\n",
    "myTeacher = \"老马的程序人生\"\n",
    "yourTeacher = \"小马的程序人生\"\n",
    "ourTeacher = myTeacher + \", \" + yourTeacher\n",
    "print(ourTeacher)"
   ]
  },
  {
   "cell_type": "code",
   "execution_count": 22,
   "metadata": {},
   "outputs": [
    {
     "name": "stdout",
     "output_type": "stream",
     "text": [
      "10 <class 'int'>\n",
      "['__abs__', '__add__', '__and__', '__bool__', '__ceil__', '__class__', '__delattr__', '__dir__', '__divmod__', '__doc__', '__eq__', '__float__', '__floor__', '__floordiv__', '__format__', '__ge__', '__getattribute__', '__getnewargs__', '__gt__', '__hash__', '__index__', '__init__', '__init_subclass__', '__int__', '__invert__', '__le__', '__lshift__', '__lt__', '__mod__', '__mul__', '__ne__', '__neg__', '__new__', '__or__', '__pos__', '__pow__', '__radd__', '__rand__', '__rdivmod__', '__reduce__', '__reduce_ex__', '__repr__', '__rfloordiv__', '__rlshift__', '__rmod__', '__rmul__', '__ror__', '__round__', '__rpow__', '__rrshift__', '__rshift__', '__rsub__', '__rtruediv__', '__rxor__', '__setattr__', '__sizeof__', '__str__', '__sub__', '__subclasshook__', '__truediv__', '__trunc__', '__xor__', 'bit_length', 'conjugate', 'denominator', 'from_bytes', 'imag', 'numerator', 'real', 'to_bytes']\n",
      "4\n",
      "1.0 <class 'float'>\n",
      "2.3e-07\n",
      "2.3e-07\n"
     ]
    }
   ],
   "source": [
    "# 数字类型及转换 int float bool\n",
    "# 整型\n",
    "a = 10\n",
    "print(a, type(a))\n",
    "\n",
    "b = dir(a)\n",
    "print(b)\n",
    "print(a.bit_length())\n",
    "\n",
    "# 浮点型\n",
    "print(1., type(1.))\n",
    "a = 0.00000023\n",
    "b = 2.3e-7\n",
    "print(a)\n",
    "print(b)"
   ]
  },
  {
   "cell_type": "code",
   "execution_count": 5,
   "metadata": {},
   "outputs": [
    {
     "name": "stdout",
     "output_type": "stream",
     "text": [
      "True\n",
      "True\n",
      "20 <class 'str'>\n"
     ]
    }
   ],
   "source": [
    "# 数据类型转换\n",
    "# isinstance 判断两个类型是否相同\n",
    "print(isinstance(1, int))\n",
    "print(isinstance(1.3, float))\n",
    "\n",
    "print(str(10+10), type(str(10+10)))"
   ]
  },
  {
   "cell_type": "code",
   "execution_count": 8,
   "metadata": {},
   "outputs": [
    {
     "name": "stdout",
     "output_type": "stream",
     "text": [
      "以换行结尾\n",
      "apple\n",
      "mango\n",
      "banana\n",
      "carrot\n",
      "apple&mango&banana&carrot&"
     ]
    }
   ],
   "source": [
    "# print函数\n",
    "shopList = ['apple', 'mango', 'banana', 'carrot']\n",
    "print(\"以换行结尾\")\n",
    "for item in shopList:\n",
    "    print(item)\n",
    "    \n",
    "# 以&结尾\n",
    "for item in shopList:\n",
    "    print(item, end='&')"
   ]
  },
  {
   "cell_type": "markdown",
   "metadata": {},
   "source": [
    "### 位运算\n",
    "### 1.原码、反码、补码\n",
    "### 2.按位运算   与、或、异或、左移、右移"
   ]
  },
  {
   "cell_type": "code",
   "execution_count": 20,
   "metadata": {},
   "outputs": [
    {
     "name": "stdout",
     "output_type": "stream",
     "text": [
      "10\n",
      "2\n",
      "20\n",
      "1\n",
      "4 3\n",
      "8 0b1000\n"
     ]
    }
   ],
   "source": [
    "# 通过左移、右移快速计算2的倍数问题\n",
    "print(5 << 1) # 计算5*2\n",
    "print(5 >> 1) # 计算5除以2\n",
    "print(5 << 2) # 计算5*4\n",
    "print(5 >> 2) # 计算5/4\n",
    "\n",
    "# 通过异或快速交换两个整数\n",
    "a,b = 3,4\n",
    "a ^= b\n",
    "b ^= a\n",
    "a ^= b\n",
    "print(a, b)\n",
    "\n",
    "# 通过a*(-a) 快速获取a的最后为1位置的整数\n",
    "print(8&(-8), bin(8))"
   ]
  },
  {
   "cell_type": "markdown",
   "metadata": {},
   "source": [
    "### 条件语句\n"
   ]
  },
  {
   "cell_type": "code",
   "execution_count": 29,
   "metadata": {},
   "outputs": [
    {
     "name": "stdout",
     "output_type": "stream",
     "text": [
      "Correct Judgement!\n"
     ]
    },
    {
     "name": "stdin",
     "output_type": "stream",
     "text": [
      "猜一猜小姐姐想的是哪个数字? 6\n"
     ]
    },
    {
     "name": "stdout",
     "output_type": "stream",
     "text": [
      "你猜错了\n",
      "游戏结束！\n"
     ]
    },
    {
     "name": "stdin",
     "output_type": "stream",
     "text": [
      "请输入成绩 78\n"
     ]
    },
    {
     "name": "stdout",
     "output_type": "stream",
     "text": [
      "C\n"
     ]
    }
   ],
   "source": [
    "# if语句\n",
    "if 5 > 3 and not 7 < 5:\n",
    "    print('Correct Judgement!')\n",
    "    \n",
    "# if - else语句\n",
    "temp = input(\"猜一猜小姐姐想的是哪个数字?\")\n",
    "guess = int(temp) #将input返回的字符串转换成整数数据类型\n",
    "if guess == 666:\n",
    "    print(\"你猜对了\")\n",
    "else:\n",
    "    print(\"你猜错了\")\n",
    "print(\"游戏结束！\")\n",
    "\n",
    "# if - elif - else语句\n",
    "temp = input('请输入成绩')\n",
    "score = int(temp)\n",
    "if 100 > score >= 90:\n",
    "    print('A')\n",
    "elif 90 > score >= 80:\n",
    "    print('B')\n",
    "elif 80 > score >= 70:\n",
    "    print('C')\n",
    "elif 70 > score >= 60:\n",
    "    print('D')\n",
    "elif 60 > score >= 0:\n",
    "    print('E')\n",
    "else: \n",
    "    print('输入错误')"
   ]
  },
  {
   "cell_type": "code",
   "execution_count": 32,
   "metadata": {},
   "outputs": [
    {
     "name": "stdout",
     "output_type": "stream",
     "text": [
      "[]\n"
     ]
    },
    {
     "ename": "AssertionError",
     "evalue": "",
     "output_type": "error",
     "traceback": [
      "\u001b[0;31m---------------------------------------------------------------------------\u001b[0m",
      "\u001b[0;31mAssertionError\u001b[0m                            Traceback (most recent call last)",
      "\u001b[0;32m<ipython-input-32-f8165b78197c>\u001b[0m in \u001b[0;36m<module>\u001b[0;34m\u001b[0m\n\u001b[1;32m      4\u001b[0m \u001b[0mprint\u001b[0m\u001b[0;34m(\u001b[0m\u001b[0mmy_list\u001b[0m\u001b[0;34m)\u001b[0m\u001b[0;34m\u001b[0m\u001b[0m\n\u001b[1;32m      5\u001b[0m \u001b[0;31m# dir(my_list)\u001b[0m\u001b[0;34m\u001b[0m\u001b[0;34m\u001b[0m\u001b[0m\n\u001b[0;32m----> 6\u001b[0;31m \u001b[0;32massert\u001b[0m \u001b[0mlen\u001b[0m\u001b[0;34m(\u001b[0m\u001b[0mmy_list\u001b[0m\u001b[0;34m)\u001b[0m \u001b[0;34m>\u001b[0m \u001b[0;36m0\u001b[0m\u001b[0;34m\u001b[0m\u001b[0m\n\u001b[0m",
      "\u001b[0;31mAssertionError\u001b[0m: "
     ]
    }
   ],
   "source": [
    "# assert关键词\n",
    "my_list = ['isgogroup']\n",
    "my_list.pop(0)\n",
    "print(my_list)\n",
    "# dir(my_list)\n",
    "assert len(my_list) > 0    # 抛出断言异常"
   ]
  },
  {
   "cell_type": "markdown",
   "metadata": {},
   "source": [
    "### 循环语句\n",
    "1. while循环\n",
    "2. while - else循环\n",
    "3. for循环\n",
    "4. for - else 循环"
   ]
  },
  {
   "cell_type": "code",
   "execution_count": 36,
   "metadata": {},
   "outputs": [
    {
     "name": "stdin",
     "output_type": "stream",
     "text": [
      "猜一猜小姐姐想的是哪个数字？ 3\n"
     ]
    },
    {
     "name": "stdout",
     "output_type": "stream",
     "text": [
      "猜小了\n"
     ]
    },
    {
     "name": "stdin",
     "output_type": "stream",
     "text": [
      "猜一猜小姐姐想的是哪个数字？ 9\n"
     ]
    },
    {
     "name": "stdout",
     "output_type": "stream",
     "text": [
      "猜大了\n"
     ]
    },
    {
     "name": "stdin",
     "output_type": "stream",
     "text": [
      "猜一猜小姐姐想的是哪个数字？ 8\n"
     ]
    },
    {
     "name": "stdout",
     "output_type": "stream",
     "text": [
      "恭喜你猜对了\n"
     ]
    }
   ],
   "source": [
    "# while循环\n",
    "count = 0\n",
    "while count < 3:\n",
    "   temp = input(\"猜一猜小姐姐想的是哪个数字？\")\n",
    "   guess = int(temp)\n",
    "   if guess > 8:\n",
    "      print(\"猜大了\")\n",
    "   else:\n",
    "        if guess == 8:\n",
    "            print(\"恭喜你猜对了\")\n",
    "            count = 3\n",
    "        else:\n",
    "            print(\"猜小了\")\n",
    "    count += 1\n",
    "print(\"游戏结束\")"
   ]
  },
  {
   "cell_type": "code",
   "execution_count": 38,
   "metadata": {},
   "outputs": [
    {
     "name": "stdout",
     "output_type": "stream",
     "text": [
      "0 is  less than 5\n",
      "1 is  less than 5\n",
      "2 is  less than 5\n",
      "3 is  less than 5\n",
      "4 is  less than 5\n",
      "5 is not less than 5\n"
     ]
    }
   ],
   "source": [
    "# while - else 循环\n",
    "'''\n",
    "while 布尔表达式:\n",
    "    代码块\n",
    "else:\n",
    "    代码块\n",
    "'''\n",
    "# 当`while`循环正常执行完的情况下，执行`else`输出，如果`while`循环中执行了跳出循环的语句，比如 `break`，将不执行`else`代码块的内容。 \n",
    "count = 0\n",
    "while count < 5:\n",
    "    print(\"%d is  less than 5\" % count)\n",
    "    count = count + 1\n",
    "else:\n",
    "    print(\"%d is not less than 5\" % count)"
   ]
  },
  {
   "cell_type": "code",
   "execution_count": 1,
   "metadata": {},
   "outputs": [
    {
     "name": "stdout",
     "output_type": "stream",
     "text": [
      "I L O V E L S G O "
     ]
    }
   ],
   "source": [
    "# for循环\n",
    "for item in 'ILOVELSGO':\n",
    "    print(item, end = ' ')\n",
    "    \n",
    "\n",
    "for "
   ]
  },
  {
   "cell_type": "code",
   "execution_count": 4,
   "metadata": {},
   "outputs": [
    {
     "name": "stdout",
     "output_type": "stream",
     "text": [
      "张三\n",
      "李四\n",
      "王五\n",
      "甲六\n",
      "乙七\n",
      "张三, 李四, 王五, 甲六, 乙七, "
     ]
    }
   ],
   "source": [
    "students = ['张三', '李四', '王五', '甲六', '乙七']\n",
    "for each in students:\n",
    "    print(each)\n",
    "    \n",
    "for i in  range(len(students)):\n",
    "    print(students[i], end = ', ')\n"
   ]
  },
  {
   "cell_type": "code",
   "execution_count": 6,
   "metadata": {},
   "outputs": [
    {
     "name": "stdout",
     "output_type": "stream",
     "text": [
      "a b c d 1 2 3 4 "
     ]
    }
   ],
   "source": [
    "dic = {'a': 1,'b': 2, 'c': 3, 'd': 4}\n",
    "for key in dic.keys():\n",
    "    print(key, end = ' ')\n",
    "    \n",
    "    \n",
    "for value in dic.values():\n",
    "    print(value, end = ' ')"
   ]
  },
  {
   "cell_type": "code",
   "execution_count": 7,
   "metadata": {},
   "outputs": [
    {
     "name": "stdout",
     "output_type": "stream",
     "text": [
      "10 等于 2 * 5\n",
      "11 是一个质数\n",
      "12 等于 2 * 6\n",
      "13 是一个质数\n",
      "14 等于 2 * 7\n",
      "15 等于 3 * 5\n",
      "16 等于 2 * 8\n",
      "17 是一个质数\n",
      "18 等于 2 * 9\n",
      "19 是一个质数\n"
     ]
    }
   ],
   "source": [
    "# for - else 循环\n",
    "for num in range(10, 20):  # 迭代 10 到 20 之间的数字\n",
    "    for i in range(2, num):  # 根据因子迭代\n",
    "        if num % i == 0:  # 确定第一个因子\n",
    "            j = num / i  # 计算第二个因子\n",
    "            print('%d 等于 %d * %d' % (num, i, j))\n",
    "            break  # 跳出当前循环\n",
    "    else:  # 循环的 else 部分\n",
    "        print(num, '是一个质数')"
   ]
  },
  {
   "cell_type": "code",
   "execution_count": 11,
   "metadata": {},
   "outputs": [
    {
     "name": "stdout",
     "output_type": "stream",
     "text": [
      "2 3 4 5 6 7 8 \n",
      "1 3 5 7 9 11 13 15 17 19 "
     ]
    }
   ],
   "source": [
    "# range函数   range([start,] [stop, step=1])\n",
    "for i in range(2, 9):\n",
    "    print(i, end = ' ')\n",
    "print()\n",
    "    \n",
    "for i in range(1, 20, 2):\n",
    "    print(i, end = ' ')"
   ]
  },
  {
   "cell_type": "code",
   "execution_count": 16,
   "metadata": {},
   "outputs": [
    {
     "name": "stdout",
     "output_type": "stream",
     "text": [
      "[(0, 'Spring'), (1, 'Summer'), (2, 'Fall'), (3, 'Winter')]\n",
      "[(1, 'Spring'), (2, 'Summer'), (3, 'Fall'), (4, 'Winter')]\n",
      "2 I love Python\n",
      "3 I love Java\n",
      "4 I love C\n",
      "5 I love Scala\n",
      "6 I love Matlab\n",
      "7 I love R\n",
      "Done!\n"
     ]
    }
   ],
   "source": [
    "# enumerate函数    enumerate(sequence, [start=0])\n",
    "seasons = ['Spring', 'Summer', 'Fall', 'Winter']\n",
    "my_list = list(enumerate(seasons))\n",
    "print(my_list)\n",
    "my_list = list(enumerate(seasons, start = 1))  #下标从1开始\n",
    "print(my_list)\n",
    "\n",
    "# enumerate函数与for循环一起使用\n",
    "languages = ['Python', 'Java', 'C', 'Scala', 'Matlab', 'R']\n",
    "for i, language in enumerate(languages, start = 2):\n",
    "    print(i, 'I love', language)\n",
    "print('Done!')"
   ]
  },
  {
   "cell_type": "code",
   "execution_count": 20,
   "metadata": {},
   "outputs": [
    {
     "name": "stdin",
     "output_type": "stream",
     "text": [
      "请输入您要猜的数字： 4\n"
     ]
    },
    {
     "name": "stdout",
     "output_type": "stream",
     "text": [
      "猜大了\n"
     ]
    },
    {
     "name": "stdin",
     "output_type": "stream",
     "text": [
      "请输入您要猜的数字： 2\n"
     ]
    },
    {
     "name": "stdout",
     "output_type": "stream",
     "text": [
      "恭喜您猜对了,数字为 2\n",
      "游戏结束！\n"
     ]
    }
   ],
   "source": [
    "# break语句 跳出当前所在层的循环\n",
    "import random\n",
    "num = random.randint(1, 20)   #产生1到20的随机数\n",
    "while True:\n",
    "    temp = input(\"请输入您要猜的数字：\")\n",
    "    guess = int(temp)\n",
    "    if guess > num:\n",
    "        print(\"猜大了\")\n",
    "    else:\n",
    "        if guess == num:\n",
    "            print(\"恭喜您猜对了,数字为\", guess)\n",
    "            break\n",
    "        else:\n",
    "            print(\"猜小了\")\n",
    "            \n",
    "print('游戏结束！')"
   ]
  },
  {
   "cell_type": "code",
   "execution_count": 21,
   "metadata": {},
   "outputs": [
    {
     "name": "stdout",
     "output_type": "stream",
     "text": [
      "2\n",
      "1\n",
      "4\n",
      "3\n",
      "6\n",
      "5\n",
      "8\n",
      "7\n",
      "10\n",
      "9\n"
     ]
    }
   ],
   "source": [
    "# continue语句 跳出当次循环继续下一次循环\n",
    "for i in range(10):\n",
    "    if i % 2 != 0:\n",
    "        print(i)\n",
    "        continue\n",
    "    i += 2\n",
    "    print(i)"
   ]
  },
  {
   "cell_type": "code",
   "execution_count": 22,
   "metadata": {},
   "outputs": [],
   "source": [
    "# pass语句   空语句，不执行任何操作\n",
    "def a_func():\n",
    "    pass"
   ]
  },
  {
   "cell_type": "markdown",
   "metadata": {},
   "source": [
    "### 推导式"
   ]
  },
  {
   "cell_type": "code",
   "execution_count": 35,
   "metadata": {},
   "outputs": [
    {
     "name": "stdout",
     "output_type": "stream",
     "text": [
      "[1, 4, 9, 16, 25, 36, 49, 64, 81]\n",
      "[(1, 1), (2, 4), (3, 9), (4, 16), (5, 25), (6, 36), (7, 49), (8, 64), (9, 81)]\n",
      "[3, 9, 15, 21, 27, 33, 39, 45, 51, 57, 63, 69, 75, 81, 87, 93, 99]\n",
      "[(0, 0), (0, 1), (0, 2), (1, 0), (1, 1), (1, 2), (2, 0), (2, 1), (2, 2)]\n",
      "[[0, 0], [0, 1], [0, 2], [1, 0], [1, 1], [1, 2], [2, 0], [2, 1], [2, 2]]\n",
      "[[10, 0], [0, 1], [0, 2], [1, 0], [1, 1], [1, 2], [2, 0], [2, 1], [2, 2]]\n",
      "<generator object <genexpr> at 0x7fccc5d7e360>\n",
      "(1, 2, 3, 4, 5, 6, 7, 8, 9)\n",
      "{0: True, 3: False, 6: True, 9: False}\n",
      "{1, 2, 3, 4, 5, 6, 7, 8, 9}\n"
     ]
    }
   ],
   "source": [
    "# 列表推导式\n",
    "x = [i ** 2 for i in range(1, 10)]\n",
    "print(x)\n",
    "x = [(i, i ** 2) for i in range(1, 10)]\n",
    "print(x)\n",
    "x = [i for i in range(100) if (i % 2) != 0 and (i % 3) == 0]\n",
    "print(x)\n",
    "a = [(i, j) for i in range(0, 3) for j in range(0, 3)]\n",
    "print(a)\n",
    "x = [[i, j] for i in range(0, 3) for j in range(0, 3)]\n",
    "print(x)\n",
    "x[0][0] = 10\n",
    "print(x)\n",
    "\n",
    "# 元组推导式\n",
    "a = (x for x in range(1, 10))\n",
    "print(a)\n",
    "print(tuple(a))\n",
    "      \n",
    "# 字典推导式\n",
    "b = {i: i % 2 == 0 for i in range(10) if i % 3 == 0}\n",
    "print(b)\n",
    "\n",
    "# 集合推导式\n",
    "c = {i for i in range(1, 10)}\n",
    "print(c)"
   ]
  },
  {
   "cell_type": "markdown",
   "metadata": {},
   "source": [
    "### 异常处理"
   ]
  },
  {
   "cell_type": "code",
   "execution_count": 41,
   "metadata": {},
   "outputs": [
    {
     "name": "stdout",
     "output_type": "stream",
     "text": [
      "打开文件出错\n",
      "打开文件出错\n",
      "原因是：[Errno 2] No such file or directory: 'test.txt'\n",
      "数值出错\n",
      "原因是：invalid literal for int() with base 10: 'abc'\n",
      "查询错误\n",
      "出错了！\n",
      "原因是：unsupported operand type(s) for +: 'int' and 'str'\n"
     ]
    }
   ],
   "source": [
    "# try - except语句\n",
    "try:\n",
    "    f = open('test.txt')\n",
    "    print(f.read())\n",
    "    f.close()\n",
    "except OSError:\n",
    "    print('打开文件出错')\n",
    "    \n",
    "    \n",
    "try:\n",
    "    f = open('test.txt')\n",
    "    print(f.read())\n",
    "    f.close()\n",
    "except OSError as error:\n",
    "    print('打开文件出错\\n原因是：' + str(error))\n",
    "    \n",
    "    \n",
    "try:\n",
    "    int(\"abc\")\n",
    "    s = 1 + '1'\n",
    "    f = open('test.txt')\n",
    "    print(f.read())\n",
    "    f.close()\n",
    "except OSError as error:\n",
    "    print('打开文件出错\\n原因是：' + str(error))\n",
    "except TypeError as error:\n",
    "    print('类型出错\\n原因是：' + str(error))\n",
    "except ValueError as error:\n",
    "    print('数值出错\\n原因是：' + str(error))\n",
    "    \n",
    "    \n",
    "    \n",
    "dict1 = {'a': 1, 'b': 2, 'v': 22}\n",
    "try:\n",
    "    x = dict1['y']\n",
    "except LookupError:\n",
    "    print('查询错误')\n",
    "except KeyError:\n",
    "    print('键错误')\n",
    "else:\n",
    "    print(x)\n",
    "\n",
    "    \n",
    "try:\n",
    "    s = 1 + '1'\n",
    "    int(\"abc\")\n",
    "    f = open('test.txt')\n",
    "    print(f.read())\n",
    "    f.close()\n",
    "except (OSError, TypeError, ValueError) as error:\n",
    "    print('出错了！\\n原因是：' + str(error))"
   ]
  },
  {
   "cell_type": "code",
   "execution_count": null,
   "metadata": {},
   "outputs": [],
   "source": [
    "# try - except - else语句\n"
   ]
  }
 ],
 "metadata": {
  "kernelspec": {
   "display_name": "Python 3",
   "language": "python",
   "name": "python3"
  },
  "language_info": {
   "codemirror_mode": {
    "name": "ipython",
    "version": 3
   },
   "file_extension": ".py",
   "mimetype": "text/x-python",
   "name": "python",
   "nbconvert_exporter": "python",
   "pygments_lexer": "ipython3",
   "version": "3.6.5"
  }
 },
 "nbformat": 4,
 "nbformat_minor": 4
}
